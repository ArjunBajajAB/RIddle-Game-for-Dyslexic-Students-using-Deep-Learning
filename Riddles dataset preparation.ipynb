{
 "cells": [
  {
   "cell_type": "code",
   "execution_count": 90,
   "metadata": {},
   "outputs": [],
   "source": [
    "from bs4 import BeautifulSoup\n",
    "import requests\n",
    "import csv"
   ]
  },
  {
   "cell_type": "code",
   "execution_count": 2,
   "metadata": {},
   "outputs": [],
   "source": [
    "url = \"https://www.everythingmom.com/activities/math-riddles-for-kids\""
   ]
  },
  {
   "cell_type": "code",
   "execution_count": 3,
   "metadata": {},
   "outputs": [],
   "source": [
    "r = requests.get(url)"
   ]
  },
  {
   "cell_type": "code",
   "execution_count": 4,
   "metadata": {},
   "outputs": [],
   "source": [
    "soup = BeautifulSoup(r.content)"
   ]
  },
  {
   "cell_type": "code",
   "execution_count": 104,
   "metadata": {},
   "outputs": [],
   "source": [
    "riddles = soup.findAll('blockquote',attrs={\"class\":\"wp-block-quote\"})\n",
    "answers = soup.findAll('cite')\n",
    "sno = 1"
   ]
  },
  {
   "cell_type": "code",
   "execution_count": 105,
   "metadata": {},
   "outputs": [],
   "source": [
    "with open(\"Riddle_Data.csv\",\"w\",newline='') as R:\n",
    "    writer = csv.writer(R)\n",
    "    writer.writerow(['SNo','Questions','Hints','Answers'])\n",
    "    "
   ]
  },
  {
   "cell_type": "code",
   "execution_count": 106,
   "metadata": {},
   "outputs": [],
   "source": [
    "for ri,an in zip(riddles,answers):\n",
    "    question = ri.find('p').text\n",
    "    answers = an.get_text()\n",
    "    with open(\"Riddle_Data.csv\",'a',newline='') as R:\n",
    "        writer = csv.writer(R)\n",
    "        writer.writerow([sno,question,answers,0])\n",
    "    sno+=1    "
   ]
  },
  {
   "cell_type": "code",
   "execution_count": 1,
   "metadata": {},
   "outputs": [],
   "source": [
    "import pandas as pd\n",
    "import numpy as np"
   ]
  },
  {
   "cell_type": "code",
   "execution_count": 2,
   "metadata": {},
   "outputs": [],
   "source": [
    "csv = pd.read_csv(\"Riddle_Data.csv\")\n",
    "pd.set_option('display.max_colwidth', None)"
   ]
  },
  {
   "cell_type": "code",
   "execution_count": 3,
   "metadata": {},
   "outputs": [
    {
     "data": {
      "text/html": [
       "<div>\n",
       "<style scoped>\n",
       "    .dataframe tbody tr th:only-of-type {\n",
       "        vertical-align: middle;\n",
       "    }\n",
       "\n",
       "    .dataframe tbody tr th {\n",
       "        vertical-align: top;\n",
       "    }\n",
       "\n",
       "    .dataframe thead th {\n",
       "        text-align: right;\n",
       "    }\n",
       "</style>\n",
       "<table border=\"1\" class=\"dataframe\">\n",
       "  <thead>\n",
       "    <tr style=\"text-align: right;\">\n",
       "      <th></th>\n",
       "      <th>SNo</th>\n",
       "      <th>Questions</th>\n",
       "      <th>Hints</th>\n",
       "      <th>Answers</th>\n",
       "      <th>DigitsCount</th>\n",
       "    </tr>\n",
       "  </thead>\n",
       "  <tbody>\n",
       "    <tr>\n",
       "      <th>0</th>\n",
       "      <td>1</td>\n",
       "      <td>X is an odd number. Take an alphabet away from X and it becomes even. Which is that number?</td>\n",
       "      <td>Answer: Seven (Seven-S=Even)</td>\n",
       "      <td>7</td>\n",
       "      <td>1</td>\n",
       "    </tr>\n",
       "    <tr>\n",
       "      <th>1</th>\n",
       "      <td>2</td>\n",
       "      <td>A grandmother, two mothers, and two daughters went to a baseball game together and bought one ticket each. How many tickets did they buy in total?</td>\n",
       "      <td>Answer:  3 tickets (the grandmother is also a mother and the mother is also a daughter)</td>\n",
       "      <td>3</td>\n",
       "      <td>1</td>\n",
       "    </tr>\n",
       "    <tr>\n",
       "      <th>2</th>\n",
       "      <td>3</td>\n",
       "      <td>At the time of shipping, Tom can place 10 small boxes or 8 large  boxes into a carton. A total of 96 boxes were sent in one shipment. The  number of small boxes was less than large boxes. What is the total  number of cartons he shipped?</td>\n",
       "      <td>Answer: 11 cartons 4 small boxes (410 = 40 boxes) 7 large boxes (78 = 56 boxes) So 96 boxes and 11 total cartons</td>\n",
       "      <td>11</td>\n",
       "      <td>2</td>\n",
       "    </tr>\n",
       "    <tr>\n",
       "      <th>3</th>\n",
       "      <td>4</td>\n",
       "      <td>When Miguel was 6 years old, his little sister, Leila, was half is age. If Miguel is 40 years old today, how old is Leila?</td>\n",
       "      <td>Answer: She is 37 years old.</td>\n",
       "      <td>37</td>\n",
       "      <td>2</td>\n",
       "    </tr>\n",
       "    <tr>\n",
       "      <th>4</th>\n",
       "      <td>5</td>\n",
       "      <td>You are given 3 positive numbers. You can add these numbers and  multiply them together. The result you get will be the same. Which are  the numbers?</td>\n",
       "      <td>Answer: 1, 2 and 3</td>\n",
       "      <td>123</td>\n",
       "      <td>3</td>\n",
       "    </tr>\n",
       "    <tr>\n",
       "      <th>5</th>\n",
       "      <td>6</td>\n",
       "      <td>Tom was asked to paint the number of plates on 100 apartments  which means he will have to paint numbers 1 through 100. Can you figure  out the number of times he will have to paint the number 8?</td>\n",
       "      <td>Answer: 20 times. (8, 18, 28, 38, 48, 58, 68, 78, 80, 81, 82, 83, 84, 85, 86, 87, 88, 89, 98)</td>\n",
       "      <td>20</td>\n",
       "      <td>2</td>\n",
       "    </tr>\n",
       "    <tr>\n",
       "      <th>6</th>\n",
       "      <td>7</td>\n",
       "      <td>What is the maximum possible number of times you can subtract number 5 from number 25?</td>\n",
       "      <td>Answer: Only once.  This is because when you subtract 5 from 25 for the first time, it becomes number 20, then 15 and so on.</td>\n",
       "      <td>1</td>\n",
       "      <td>1</td>\n",
       "    </tr>\n",
       "    <tr>\n",
       "      <th>7</th>\n",
       "      <td>8</td>\n",
       "      <td>Leon works at the aquarium. When he tries to put each turtle in its own tank, he has one turtle too many. But if he puts two turtles per tank, he has on tank too many. How many turtles and how many tanks does Leon have?</td>\n",
       "      <td>Answer: He has 3 tanks and 4 turtles</td>\n",
       "      <td>34</td>\n",
       "      <td>2</td>\n",
       "    </tr>\n",
       "    <tr>\n",
       "      <th>8</th>\n",
       "      <td>9</td>\n",
       "      <td>A 300 ft. train is traveling 300 ft. per minute must travel through a  300 ft. long tunnel.  How long will it take the train to travel through  the tunnel?</td>\n",
       "      <td>Answer:  Two minutes. It takes the front of the train one minute and the rest of the train will take two minutes to clear the tunnel.</td>\n",
       "      <td>2</td>\n",
       "      <td>1</td>\n",
       "    </tr>\n",
       "    <tr>\n",
       "      <th>9</th>\n",
       "      <td>10</td>\n",
       "      <td>I am a three-digit number. My second digit is 4 times bigger  than the third digit. My first digit is 3 less than my second digit. Who  am I?</td>\n",
       "      <td>Answer: 141</td>\n",
       "      <td>141</td>\n",
       "      <td>3</td>\n",
       "    </tr>\n",
       "    <tr>\n",
       "      <th>10</th>\n",
       "      <td>11</td>\n",
       "      <td>There are 100 pairs of dogs in a zoo. Two pairs of babiesp are born for  every dog. Unfortunately, 23 of the dogs have not survived. How many  dogs would be left in total?</td>\n",
       "      <td>Answer: 977 dogs (100 x 2 = 200 ;  200 + 800 = 1000;   1000 – 23 = 977)</td>\n",
       "      <td>977</td>\n",
       "      <td>3</td>\n",
       "    </tr>\n",
       "    <tr>\n",
       "      <th>11</th>\n",
       "      <td>12</td>\n",
       "      <td>A group of students were standing in the blazing sun facing due  west on a march past event. The leader shouted at them: Right turn!  About turn! Left turn! At the end of these commands, in which direction  is the students facing now? East-1, West-2, North-3, South-4</td>\n",
       "      <td>Answer: East. They will turn 90 degrees in a right  turn, and they turn180 degrees in an about-turn, and finally they turn  90 degrees in a left turn. Therefore, the students are now facing east.</td>\n",
       "      <td>1</td>\n",
       "      <td>1</td>\n",
       "    </tr>\n",
       "    <tr>\n",
       "      <th>12</th>\n",
       "      <td>13</td>\n",
       "      <td>Eggs are $0.12 a dozen. How many eggs can you get for a dollar?</td>\n",
       "      <td>Answer:   100 eggs, at one penny each</td>\n",
       "      <td>100</td>\n",
       "      <td>3</td>\n",
       "    </tr>\n",
       "    <tr>\n",
       "      <th>13</th>\n",
       "      <td>14</td>\n",
       "      <td>I am a three-digit number. My tens digit is six more than my ones digit. My hundreds digit is eight less than my tens digit. What number am I?</td>\n",
       "      <td>Answer: 193</td>\n",
       "      <td>193</td>\n",
       "      <td>3</td>\n",
       "    </tr>\n",
       "    <tr>\n",
       "      <th>14</th>\n",
       "      <td>15</td>\n",
       "      <td>In an odd little town, there was an odd little stream, WIth odd little  fish in an odd little team. A stranger approached a local fisherman, And  asked him how much his odd little fish weighed. The odd little man  replied: All the fish in this stream weigh exactly 1/2 of a pound plus  1/2 of a fish. Isn’t that odd? How many pounds does an odd little fish  weigh?</td>\n",
       "      <td>Answer:  One</td>\n",
       "      <td>1</td>\n",
       "      <td>1</td>\n",
       "    </tr>\n",
       "    <tr>\n",
       "      <th>15</th>\n",
       "      <td>16</td>\n",
       "      <td>How many sides does a circle have?</td>\n",
       "      <td>Answer:  Two. The inside and the outside.</td>\n",
       "      <td>2</td>\n",
       "      <td>1</td>\n",
       "    </tr>\n",
       "    <tr>\n",
       "      <th>16</th>\n",
       "      <td>17</td>\n",
       "      <td>A man is twice as old as his little sister. He is also half as  old as their dad. Over a period of 50 years, the age of the sister will  become half of their dad’s age. What is the age of the man now?</td>\n",
       "      <td>Answer: He is 50 years old.</td>\n",
       "      <td>50</td>\n",
       "      <td>2</td>\n",
       "    </tr>\n",
       "    <tr>\n",
       "      <th>17</th>\n",
       "      <td>18</td>\n",
       "      <td>What is the difference between a dollar and a half and thirty five-cents.</td>\n",
       "      <td>Answer:  Nothing</td>\n",
       "      <td>0</td>\n",
       "      <td>1</td>\n",
       "    </tr>\n",
       "    <tr>\n",
       "      <th>18</th>\n",
       "      <td>19</td>\n",
       "      <td>If you multiply this number by any other number, the answer will always be the same. What number is this?</td>\n",
       "      <td>Answer:  Zero</td>\n",
       "      <td>0</td>\n",
       "      <td>1</td>\n",
       "    </tr>\n",
       "    <tr>\n",
       "      <th>19</th>\n",
       "      <td>20</td>\n",
       "      <td>There is a clothing store in Bartlesville. The owner has devised his own  method of pricing items. A vest costs $20, socks cost $25, a tie costs  $15 and a blouse costs $30. Using the method, how much would a pair of  underwear cost</td>\n",
       "      <td>Answer:  $45. The pricing method consists of charging $5 for each letter required to spell the item.</td>\n",
       "      <td>45</td>\n",
       "      <td>2</td>\n",
       "    </tr>\n",
       "    <tr>\n",
       "      <th>20</th>\n",
       "      <td>21</td>\n",
       "      <td>If seven people meet each other and each shakes hands only once with  each of the others, how many handshakes will there have been?</td>\n",
       "      <td>Answer: Twenty One</td>\n",
       "      <td>21</td>\n",
       "      <td>2</td>\n",
       "    </tr>\n",
       "  </tbody>\n",
       "</table>\n",
       "</div>"
      ],
      "text/plain": [
       "    SNo  \\\n",
       "0     1   \n",
       "1     2   \n",
       "2     3   \n",
       "3     4   \n",
       "4     5   \n",
       "5     6   \n",
       "6     7   \n",
       "7     8   \n",
       "8     9   \n",
       "9    10   \n",
       "10   11   \n",
       "11   12   \n",
       "12   13   \n",
       "13   14   \n",
       "14   15   \n",
       "15   16   \n",
       "16   17   \n",
       "17   18   \n",
       "18   19   \n",
       "19   20   \n",
       "20   21   \n",
       "\n",
       "                                                                                                                                                                                                                                                                                                                                                                         Questions  \\\n",
       "0                                                                                                                                                                                                                                                                                     X is an odd number. Take an alphabet away from X and it becomes even. Which is that number?    \n",
       "1                                                                                                                                                                                                                           A grandmother, two mothers, and two daughters went to a baseball game together and bought one ticket each. How many tickets did they buy in total?       \n",
       "2                                                                                                                                    At the time of shipping, Tom can place 10 small boxes or 8 large  boxes into a carton. A total of 96 boxes were sent in one shipment. The  number of small boxes was less than large boxes. What is the total  number of cartons he shipped?    \n",
       "3                                                                                                                                                                                                                                                    When Miguel was 6 years old, his little sister, Leila, was half is age. If Miguel is 40 years old today, how old is Leila?      \n",
       "4                                                                                                                                                                                                                           You are given 3 positive numbers. You can add these numbers and  multiply them together. The result you get will be the same. Which are  the numbers?    \n",
       "5                                                                                                                                                                             Tom was asked to paint the number of plates on 100 apartments  which means he will have to paint numbers 1 through 100. Can you figure  out the number of times he will have to paint the number 8?    \n",
       "6                                                                                                                                                                                                                                                                                          What is the maximum possible number of times you can subtract number 5 from number 25?    \n",
       "7                                                                                                                                                   Leon works at the aquarium. When he tries to put each turtle in its own tank, he has one turtle too many. But if he puts two turtles per tank, he has on tank too many. How many turtles and how many tanks does Leon have?      \n",
       "8                                                                                                                                                                                                                     A 300 ft. train is traveling 300 ft. per minute must travel through a  300 ft. long tunnel.  How long will it take the train to travel through  the tunnel?    \n",
       "9                                                                                                                                                                                                                                   I am a three-digit number. My second digit is 4 times bigger  than the third digit. My first digit is 3 less than my second digit. Who  am I?    \n",
       "10                                                                                                                                                                                                    There are 100 pairs of dogs in a zoo. Two pairs of babiesp are born for  every dog. Unfortunately, 23 of the dogs have not survived. How many  dogs would be left in total?    \n",
       "11                                                                                                    A group of students were standing in the blazing sun facing due  west on a march past event. The leader shouted at them: Right turn!  About turn! Left turn! At the end of these commands, in which direction  is the students facing now? East-1, West-2, North-3, South-4    \n",
       "12                                                                                                                                                                                                                                                                                                                Eggs are $0.12 a dozen. How many eggs can you get for a dollar?    \n",
       "13                                                                                                                                                                                                                                 I am a three-digit number. My tens digit is six more than my ones digit. My hundreds digit is eight less than my tens digit. What number am I?    \n",
       "14   In an odd little town, there was an odd little stream, WIth odd little  fish in an odd little team. A stranger approached a local fisherman, And  asked him how much his odd little fish weighed. The odd little man  replied: All the fish in this stream weigh exactly 1/2 of a pound plus  1/2 of a fish. Isn’t that odd? How many pounds does an odd little fish  weigh?    \n",
       "15                                                                                                                                                                                                                                                                                                                                             How many sides does a circle have?    \n",
       "16                                                                                                                                                                       A man is twice as old as his little sister. He is also half as  old as their dad. Over a period of 50 years, the age of the sister will  become half of their dad’s age. What is the age of the man now?    \n",
       "17                                                                                                                                                                                                                                                                                                      What is the difference between a dollar and a half and thirty five-cents.    \n",
       "18                                                                                                                                                                                                                                                                      If you multiply this number by any other number, the answer will always be the same. What number is this?    \n",
       "19                                                                                                                                       There is a clothing store in Bartlesville. The owner has devised his own  method of pricing items. A vest costs $20, socks cost $25, a tie costs  $15 and a blouse costs $30. Using the method, how much would a pair of  underwear cost    \n",
       "20                                                                                                                                                                                                                                            If seven people meet each other and each shakes hands only once with  each of the others, how many handshakes will there have been?    \n",
       "\n",
       "                                                                                                                                                                                                    Hints  \\\n",
       "0                                                                                                                                                                           Answer: Seven (Seven-S=Even)    \n",
       "1                                                                                                                Answer:  3 tickets (the grandmother is also a mother and the mother is also a daughter)    \n",
       "2                                                                                        Answer: 11 cartons 4 small boxes (410 = 40 boxes) 7 large boxes (78 = 56 boxes) So 96 boxes and 11 total cartons   \n",
       "3                                                                                                                                                                           Answer: She is 37 years old.    \n",
       "4                                                                                                                                                                                     Answer: 1, 2 and 3    \n",
       "5                                                                                                          Answer: 20 times. (8, 18, 28, 38, 48, 58, 68, 78, 80, 81, 82, 83, 84, 85, 86, 87, 88, 89, 98)    \n",
       "6                                                                           Answer: Only once.  This is because when you subtract 5 from 25 for the first time, it becomes number 20, then 15 and so on.    \n",
       "7                                                                                                                                                                   Answer: He has 3 tanks and 4 turtles    \n",
       "8                                                                  Answer:  Two minutes. It takes the front of the train one minute and the rest of the train will take two minutes to clear the tunnel.    \n",
       "9                                                                                                                                                                                            Answer: 141    \n",
       "10                                                                                                                               Answer: 977 dogs (100 x 2 = 200 ;  200 + 800 = 1000;   1000 – 23 = 977)    \n",
       "11   Answer: East. They will turn 90 degrees in a right  turn, and they turn180 degrees in an about-turn, and finally they turn  90 degrees in a left turn. Therefore, the students are now facing east.    \n",
       "12                                                                                                                                                                 Answer:   100 eggs, at one penny each    \n",
       "13                                                                                                                                                                                           Answer: 193    \n",
       "14                                                                                                                                                                                           Answer:  One   \n",
       "15                                                                                                                                                             Answer:  Two. The inside and the outside.    \n",
       "16                                                                                                                                                                           Answer: He is 50 years old.    \n",
       "17                                                                                                                                                                                       Answer:  Nothing   \n",
       "18                                                                                                                                                                                          Answer:  Zero   \n",
       "19                                                                                                  Answer:  $45. The pricing method consists of charging $5 for each letter required to spell the item.    \n",
       "20                                                                                                                                                                                     Answer: Twenty One   \n",
       "\n",
       "    Answers  DigitsCount  \n",
       "0         7            1  \n",
       "1         3            1  \n",
       "2        11            2  \n",
       "3        37            2  \n",
       "4       123            3  \n",
       "5        20            2  \n",
       "6         1            1  \n",
       "7        34            2  \n",
       "8         2            1  \n",
       "9       141            3  \n",
       "10      977            3  \n",
       "11        1            1  \n",
       "12      100            3  \n",
       "13      193            3  \n",
       "14        1            1  \n",
       "15        2            1  \n",
       "16       50            2  \n",
       "17        0            1  \n",
       "18        0            1  \n",
       "19       45            2  \n",
       "20       21            2  "
      ]
     },
     "execution_count": 3,
     "metadata": {},
     "output_type": "execute_result"
    }
   ],
   "source": [
    "csv"
   ]
  },
  {
   "cell_type": "code",
   "execution_count": 7,
   "metadata": {},
   "outputs": [
    {
     "data": {
      "text/plain": [
       "numpy.int64"
      ]
     },
     "execution_count": 7,
     "metadata": {},
     "output_type": "execute_result"
    }
   ],
   "source": [
    "type(csv[\"DigitsCount\"][10])"
   ]
  },
  {
   "cell_type": "code",
   "execution_count": 5,
   "metadata": {},
   "outputs": [
    {
     "data": {
      "text/plain": [
       "21"
      ]
     },
     "execution_count": 5,
     "metadata": {},
     "output_type": "execute_result"
    }
   ],
   "source": [
    "len(csv)"
   ]
  },
  {
   "cell_type": "code",
   "execution_count": 6,
   "metadata": {},
   "outputs": [
    {
     "name": "stdout",
     "output_type": "stream",
     "text": [
      "[9]\n"
     ]
    }
   ],
   "source": [
    "r = np.random.randint(0,20,1)\n",
    "print(r)"
   ]
  },
  {
   "cell_type": "code",
   "execution_count": 7,
   "metadata": {},
   "outputs": [],
   "source": [
    "ans = r"
   ]
  },
  {
   "cell_type": "code",
   "execution_count": 12,
   "metadata": {},
   "outputs": [
    {
     "data": {
      "text/plain": [
       "str"
      ]
     },
     "execution_count": 12,
     "metadata": {},
     "output_type": "execute_result"
    }
   ],
   "source": [
    "ans =(csv[\"Questions\"][r]).to_string()\n",
    "type(ans)"
   ]
  },
  {
   "cell_type": "code",
   "execution_count": 14,
   "metadata": {},
   "outputs": [
    {
     "name": "stdout",
     "output_type": "stream",
     "text": [
      "   I am a three-digit number. My second digit is 4 times bigger  than the third digit. My first digit is 3 less than my second digit. Who  am I? \n"
     ]
    }
   ],
   "source": [
    "print(ans[3:])"
   ]
  },
  {
   "cell_type": "code",
   "execution_count": 34,
   "metadata": {},
   "outputs": [
    {
     "name": "stdout",
     "output_type": "stream",
     "text": [
      "[['1, X is an odd number. Take an alphabet away from X and it becomes even. Which is that number? , Answer: Seven (Seven-S=Even) ,7,1']]\n"
     ]
    }
   ],
   "source": [
    "import csv\n",
    "no=1\n",
    "with open('Riddle_Data.csv', 'r') as file:\n",
    "    reader = csv.reader(file, delimiter = '\\t')\n",
    "    main = [row for idx,row in enumerate(reader) if idx==no]\n",
    "    print(main)"
   ]
  },
  {
   "cell_type": "code",
   "execution_count": 30,
   "metadata": {},
   "outputs": [
    {
     "ename": "TypeError",
     "evalue": "'_csv.reader' object is not subscriptable",
     "output_type": "error",
     "traceback": [
      "\u001b[0;31m---------------------------------------------------------------------------\u001b[0m",
      "\u001b[0;31mTypeError\u001b[0m                                 Traceback (most recent call last)",
      "\u001b[0;32m<ipython-input-30-9fcfa110092a>\u001b[0m in \u001b[0;36m<module>\u001b[0;34m\u001b[0m\n\u001b[0;32m----> 1\u001b[0;31m \u001b[0mreader\u001b[0m\u001b[0;34m[\u001b[0m\u001b[0;34m\"SNo\"\u001b[0m\u001b[0;34m]\u001b[0m\u001b[0;34m\u001b[0m\u001b[0;34m\u001b[0m\u001b[0m\n\u001b[0m",
      "\u001b[0;31mTypeError\u001b[0m: '_csv.reader' object is not subscriptable"
     ]
    }
   ],
   "source": [
    "reader[\"SNo\"]"
   ]
  },
  {
   "cell_type": "code",
   "execution_count": 35,
   "metadata": {},
   "outputs": [
    {
     "data": {
      "text/plain": [
       "[['1, X is an odd number. Take an alphabet away from X and it becomes even. Which is that number? , Answer: Seven (Seven-S=Even) ,7,1']]"
      ]
     },
     "execution_count": 35,
     "metadata": {},
     "output_type": "execute_result"
    }
   ],
   "source": [
    "main"
   ]
  },
  {
   "cell_type": "code",
   "execution_count": 38,
   "metadata": {},
   "outputs": [
    {
     "data": {
      "text/plain": [
       "['1, X is an odd number. Take an alphabet away from X and it becomes even. Which is that number? , Answer: Seven (Seven-S=Even) ,7,1']"
      ]
     },
     "execution_count": 38,
     "metadata": {},
     "output_type": "execute_result"
    }
   ],
   "source": [
    "main[0]"
   ]
  },
  {
   "cell_type": "code",
   "execution_count": 15,
   "metadata": {},
   "outputs": [
    {
     "data": {
      "text/plain": [
       "'9     I am a three-digit number. My second digit is 4 times bigger  than the third digit. My first digit is 3 less than my second digit. Who  am I? '"
      ]
     },
     "execution_count": 15,
     "metadata": {},
     "output_type": "execute_result"
    }
   ],
   "source": [
    "ans"
   ]
  },
  {
   "cell_type": "code",
   "execution_count": 19,
   "metadata": {},
   "outputs": [],
   "source": [
    "a=csv[\"DigitsCount\"][1]"
   ]
  },
  {
   "cell_type": "code",
   "execution_count": 20,
   "metadata": {},
   "outputs": [
    {
     "data": {
      "text/plain": [
       "numpy.int64"
      ]
     },
     "execution_count": 20,
     "metadata": {},
     "output_type": "execute_result"
    }
   ],
   "source": [
    "type(a)"
   ]
  },
  {
   "cell_type": "code",
   "execution_count": 22,
   "metadata": {},
   "outputs": [
    {
     "name": "stdout",
     "output_type": "stream",
     "text": [
      "1\n"
     ]
    }
   ],
   "source": [
    "print(a)"
   ]
  },
  {
   "cell_type": "code",
   "execution_count": 45,
   "metadata": {},
   "outputs": [],
   "source": [
    "ans =(csv[\"Answers\"][r]).to_string()"
   ]
  },
  {
   "cell_type": "code",
   "execution_count": 47,
   "metadata": {},
   "outputs": [],
   "source": [
    "ab=ans[3:]"
   ]
  },
  {
   "cell_type": "code",
   "execution_count": 8,
   "metadata": {},
   "outputs": [],
   "source": [
    "import cv2\n",
    "import numpy as np\n",
    "import tensorflow as tf\n",
    "import matplotlib.pyplot as plt\n",
    "model = tf.keras.models.load_model('Digit_Recognition_Model_2.model')  # Load our trained model"
   ]
  },
  {
   "cell_type": "code",
   "execution_count": 13,
   "metadata": {},
   "outputs": [
    {
     "name": "stdout",
     "output_type": "stream",
     "text": [
      "1\n"
     ]
    },
    {
     "data": {
      "text/plain": [
       "<matplotlib.image.AxesImage at 0x7f084c34a0d0>"
      ]
     },
     "execution_count": 13,
     "metadata": {},
     "output_type": "execute_result"
    },
    {
     "data": {
      "image/png": "[encoded data removed]",
      "text/plain": [
       "<Figure size 432x288 with 1 Axes>"
      ]
     },
     "metadata": {
      "needs_background": "light"
     },
     "output_type": "display_data"
    }
   ],
   "source": [
    "answ=[]\n",
    "image = cv2.imread('images/Captured1.png')  # read the saved input on canvas which is stores as image\n",
    "grey = cv2.cvtColor(image.copy(), cv2.COLOR_BGR2GRAY)  # convert to grayscale\n",
    "\n",
    "digit=cv2.resize(grey,(28,28))\n",
    "digiti=digit.reshape((1,28,28,1))\n",
    "prediction = model.predict((digiti))  # Predict the digit using our model after reshaping the digit to the dimensions the model is trained on\n",
    "ans = np.argmax(prediction)  # convert the predicted array to a readable forma\n",
    "print(ans)\n",
    "plt.imshow(digit)"
   ]
  },
  {
   "cell_type": "code",
   "execution_count": 68,
   "metadata": {},
   "outputs": [
    {
     "data": {
      "text/plain": [
       "[3, 3]"
      ]
     },
     "execution_count": 68,
     "metadata": {},
     "output_type": "execute_result"
    }
   ],
   "source": [
    "answ"
   ]
  },
  {
   "cell_type": "code",
   "execution_count": 73,
   "metadata": {},
   "outputs": [
    {
     "name": "stdout",
     "output_type": "stream",
     "text": [
      "3\n"
     ]
    },
    {
     "data": {
      "image/png": "[encoded data removed]",
      "text/plain": [
       "<Figure size 432x288 with 1 Axes>"
      ]
     },
     "metadata": {
      "needs_background": "light"
     },
     "output_type": "display_data"
    }
   ],
   "source": [
    "threshh = cv2.resize(thresh,(28,28))\n",
    "plt.imshow(threshh)\n",
    "pr=model.predict(threshh.reshape(1,28,28,1))\n",
    "print(np.argmax(pr))"
   ]
  },
  {
   "cell_type": "code",
   "execution_count": 17,
   "metadata": {},
   "outputs": [
    {
     "name": "stdout",
     "output_type": "stream",
     "text": [
      "1\n"
     ]
    },
    {
     "data": {
      "text/plain": [
       "<matplotlib.image.AxesImage at 0x7f084c18b280>"
      ]
     },
     "execution_count": 17,
     "metadata": {},
     "output_type": "execute_result"
    },
    {
     "data": {
      "image/png": "[encoded data removed]",
      "text/plain": [
       "<Figure size 432x288 with 1 Axes>"
      ]
     },
     "metadata": {
      "needs_background": "light"
     },
     "output_type": "display_data"
    }
   ],
   "source": [
    "image = cv2.imread('images/Captured2.png')  # read the saved input on canvas which is stores as image\n",
    "grey = cv2.cvtColor(image.copy(), cv2.COLOR_BGR2GRAY)  # convert to grayscale\n",
    "contours, _ = cv2.findContours(grey.copy(), cv2.RETR_EXTERNAL, cv2.CHAIN_APPROX_SIMPLE)\n",
    "for c in contours:\n",
    "        x, y, w, h = cv2.boundingRect(c)\n",
    "\n",
    "        # Creating a rectangle around the digit in the original image (for displaying the digits fetched via contours)\n",
    "        cv2.rectangle(image, (x, y), (x + w, y + h), color=(0, 255, 0), thickness=2)\n",
    "\n",
    "        # Cropping out the digit from the image corresponding to the current contours in the for loop\n",
    "        mean = w + h\n",
    "        mean = mean / 2\n",
    "        if (w > h):\n",
    "            m = abs(mean - h)\n",
    "            height = int(y + h + m)\n",
    "            width = int(x + w - m)\n",
    "            digit = grey[y:height, x:width]\n",
    "        elif (h > w):\n",
    "            m = abs(mean - w)\n",
    "            height = int(y + h - m)\n",
    "            width = int(x + w + m)\n",
    "            digit = grey[y:height, x:width]\n",
    "        elif (h == w):\n",
    "            digit = grey[y:y + h, x:x + w]\n",
    "\n",
    "        # ResiImport the libraries to create a GUI Applicationzing that digit to (18, 18)\n",
    "        resized_digit = cv2.resize(digit, (18, 18))\n",
    "\n",
    "        # Padding the digit with 5 pixels of black color (zeros) in each side to finally produce the image of (28, 28)\n",
    "        padded_digit = np.pad(resized_digit, ((5, 5), (5, 5)), \"constant\", constant_values=0)\n",
    "\n",
    "\n",
    "digiti=padded_digit.reshape((1,28,28,1))\n",
    "prediction = model.predict((digiti))  # Predict the digit using our model after reshaping the digit to the dimensions the model is trained on\n",
    "ans = np.argmax(prediction)  # convert the predicted array to a readable forma\n",
    "print(ans)\n",
    "plt.imshow(padded_digit)"
   ]
  },
  {
   "cell_type": "code",
   "execution_count": 9,
   "metadata": {},
   "outputs": [],
   "source": [
    "from gtts import gTTS\n",
    "import os"
   ]
  },
  {
   "cell_type": "code",
   "execution_count": 49,
   "metadata": {},
   "outputs": [],
   "source": [
    "m = \"X is an odd number. Take an alphabet away from X and it becomes even. Which is that number?\"\n",
    "m2 =\"A group of students were standing in the blazing sun facing due west on a march past event. The leader shouted at them: Right turn! About turn! Left turn! At the end of these commands, in which direction is the students facing now? East-1, West-2, North-3, South-4\"\n",
    "language =\"en\""
   ]
  },
  {
   "cell_type": "code",
   "execution_count": 50,
   "metadata": {},
   "outputs": [],
   "source": [
    "myobj = gTTS(text=m2,lang=language,slow=False)"
   ]
  },
  {
   "cell_type": "code",
   "execution_count": 51,
   "metadata": {},
   "outputs": [],
   "source": [
    "myobj.save(\"test.mp3\")"
   ]
  },
  {
   "cell_type": "code",
   "execution_count": 52,
   "metadata": {},
   "outputs": [
    {
     "data": {
      "text/plain": [
       "32512"
      ]
     },
     "execution_count": 52,
     "metadata": {},
     "output_type": "execute_result"
    }
   ],
   "source": [
    "os.system(\"test.mp3\")"
   ]
  },
  {
   "cell_type": "code",
   "execution_count": 38,
   "metadata": {},
   "outputs": [],
   "source": [
    "from playsound import playsound"
   ]
  },
  {
   "cell_type": "code",
   "execution_count": 55,
   "metadata": {},
   "outputs": [],
   "source": [
    "playsound(\"test.mp3\")"
   ]
  },
  {
   "cell_type": "code",
   "execution_count": 62,
   "metadata": {},
   "outputs": [
    {
     "data": {
      "text/plain": [
       "' X is an odd number. Take an alphabet away from X and it becomes even. Which is that number? '"
      ]
     },
     "execution_count": 62,
     "metadata": {},
     "output_type": "execute_result"
    }
   ],
   "source": [
    "csv[\"Questions\"][0]"
   ]
  },
  {
   "cell_type": "code",
   "execution_count": 71,
   "metadata": {},
   "outputs": [
    {
     "name": "stdout",
     "output_type": "stream",
     "text": [
      "done\n",
      "done\n",
      "done\n",
      "done\n",
      "done\n",
      "done\n"
     ]
    }
   ],
   "source": [
    "for i in range(15,21):\n",
    "    myobj=gTTS(text=csv[\"Questions\"][i],lang=\"en\",slow=False)\n",
    "    myobj.save(\"sounds/Ques{}.mp3\".format(i))\n",
    "    print(\"done\")"
   ]
  },
  {
   "cell_type": "code",
   "execution_count": 72,
   "metadata": {},
   "outputs": [
    {
     "data": {
      "text/plain": [
       "' Answer: Seven (Seven-S=Even) '"
      ]
     },
     "execution_count": 72,
     "metadata": {},
     "output_type": "execute_result"
    }
   ],
   "source": [
    "csv[\"Hints\"][0]"
   ]
  },
  {
   "cell_type": "code",
   "execution_count": 74,
   "metadata": {},
   "outputs": [
    {
     "name": "stdout",
     "output_type": "stream",
     "text": [
      "done\n",
      "done\n",
      "done\n",
      "done\n",
      "done\n",
      "done\n",
      "done\n",
      "done\n",
      "done\n",
      "done\n",
      "done\n",
      "done\n",
      "done\n",
      "done\n",
      "done\n",
      "done\n",
      "done\n",
      "done\n",
      "done\n",
      "done\n"
     ]
    }
   ],
   "source": [
    "for i in range(1,21):\n",
    "    myobj=gTTS(text=csv[\"Hints\"][i],lang=\"en\",slow=False)\n",
    "    myobj.save(\"sounds/Ans{}.mp3\".format(i))\n",
    "    print(\"done\")"
   ]
  },
  {
   "cell_type": "code",
   "execution_count": 8,
   "metadata": {},
   "outputs": [
    {
     "data": {
      "text/plain": [
       "' X is an odd number. Take an alphabet away from X and it becomes even. Which is that number? '"
      ]
     },
     "execution_count": 8,
     "metadata": {},
     "output_type": "execute_result"
    }
   ],
   "source": [
    "csv[\"Questions\"][0]"
   ]
  },
  {
   "cell_type": "code",
   "execution_count": 48,
   "metadata": {},
   "outputs": [],
   "source": [
    "myobj = gTTS(text=\"Riddle game!  Learn, Play, Improve Altogether\",lang=\"en\",slow=False)"
   ]
  },
  {
   "cell_type": "code",
   "execution_count": 49,
   "metadata": {},
   "outputs": [],
   "source": [
    "myobj.save(\"sounds/Open.wav\")"
   ]
  },
  {
   "cell_type": "code",
   "execution_count": 62,
   "metadata": {},
   "outputs": [],
   "source": [
    "playsound(\"sounds/Open.wav\")\n"
   ]
  },
  {
   "cell_type": "code",
   "execution_count": 64,
   "metadata": {},
   "outputs": [],
   "source": [
    "from pygame import mixer\n",
    "mixer.init()"
   ]
  },
  {
   "cell_type": "code",
   "execution_count": 68,
   "metadata": {},
   "outputs": [
    {
     "ename": "error",
     "evalue": "Unknown WAVE format",
     "output_type": "error",
     "traceback": [
      "\u001b[0;31m---------------------------------------------------------------------------\u001b[0m",
      "\u001b[0;31merror\u001b[0m                                     Traceback (most recent call last)",
      "\u001b[0;32m<ipython-input-68-bdbb85eb3d2a>\u001b[0m in \u001b[0;36m<module>\u001b[0;34m\u001b[0m\n\u001b[0;32m----> 1\u001b[0;31m \u001b[0mc\u001b[0m\u001b[0;34m=\u001b[0m\u001b[0mmixer\u001b[0m\u001b[0;34m.\u001b[0m\u001b[0mmusic\u001b[0m\u001b[0;34m.\u001b[0m\u001b[0mload\u001b[0m\u001b[0;34m(\u001b[0m\u001b[0;34m\"sounds/Open.wav\"\u001b[0m\u001b[0;34m)\u001b[0m\u001b[0;34m\u001b[0m\u001b[0;34m\u001b[0m\u001b[0m\n\u001b[0m\u001b[1;32m      2\u001b[0m \u001b[0mmixer\u001b[0m\u001b[0;34m.\u001b[0m\u001b[0mmusic\u001b[0m\u001b[0;34m.\u001b[0m\u001b[0mplay\u001b[0m\u001b[0;34m(\u001b[0m\u001b[0mc\u001b[0m\u001b[0;34m)\u001b[0m\u001b[0;34m\u001b[0m\u001b[0;34m\u001b[0m\u001b[0m\n",
      "\u001b[0;31merror\u001b[0m: Unknown WAVE format"
     ]
    }
   ],
   "source": [
    "c=mixer.music.load(\"sounds/Open.wav\")\n",
    "mixer.music.play(c)"
   ]
  },
  {
   "cell_type": "code",
   "execution_count": 47,
   "metadata": {},
   "outputs": [],
   "source": [
    "p.start()"
   ]
  },
  {
   "cell_type": "code",
   "execution_count": 61,
   "metadata": {},
   "outputs": [
    {
     "ename": "OSError",
     "evalue": "PortAudio library not found",
     "output_type": "error",
     "traceback": [
      "\u001b[0;31m---------------------------------------------------------------------------\u001b[0m",
      "\u001b[0;31mOSError\u001b[0m                                   Traceback (most recent call last)",
      "\u001b[0;32m<ipython-input-61-1b8d9fe8fdfa>\u001b[0m in \u001b[0;36m<module>\u001b[0;34m\u001b[0m\n\u001b[0;32m----> 1\u001b[0;31m \u001b[0;32mimport\u001b[0m \u001b[0msounddevice\u001b[0m \u001b[0;32mas\u001b[0m \u001b[0msd\u001b[0m\u001b[0;34m\u001b[0m\u001b[0;34m\u001b[0m\u001b[0m\n\u001b[0m",
      "\u001b[0;32m~/.local/lib/python3.8/site-packages/sounddevice.py\u001b[0m in \u001b[0;36m<module>\u001b[0;34m\u001b[0m\n\u001b[1;32m     69\u001b[0m             \u001b[0;32mbreak\u001b[0m\u001b[0;34m\u001b[0m\u001b[0;34m\u001b[0m\u001b[0m\n\u001b[1;32m     70\u001b[0m     \u001b[0;32melse\u001b[0m\u001b[0;34m:\u001b[0m\u001b[0;34m\u001b[0m\u001b[0;34m\u001b[0m\u001b[0m\n\u001b[0;32m---> 71\u001b[0;31m         \u001b[0;32mraise\u001b[0m \u001b[0mOSError\u001b[0m\u001b[0;34m(\u001b[0m\u001b[0;34m'PortAudio library not found'\u001b[0m\u001b[0;34m)\u001b[0m\u001b[0;34m\u001b[0m\u001b[0;34m\u001b[0m\u001b[0m\n\u001b[0m\u001b[1;32m     72\u001b[0m     \u001b[0m_lib\u001b[0m \u001b[0;34m=\u001b[0m \u001b[0m_ffi\u001b[0m\u001b[0;34m.\u001b[0m\u001b[0mdlopen\u001b[0m\u001b[0;34m(\u001b[0m\u001b[0m_libname\u001b[0m\u001b[0;34m)\u001b[0m\u001b[0;34m\u001b[0m\u001b[0;34m\u001b[0m\u001b[0m\n\u001b[1;32m     73\u001b[0m \u001b[0;32mexcept\u001b[0m \u001b[0mOSError\u001b[0m\u001b[0;34m:\u001b[0m\u001b[0;34m\u001b[0m\u001b[0;34m\u001b[0m\u001b[0m\n",
      "\u001b[0;31mOSError\u001b[0m: PortAudio library not found"
     ]
    }
   ],
   "source": [
    "import sounddevice as sd"
   ]
  },
  {
   "cell_type": "code",
   "execution_count": 69,
   "metadata": {},
   "outputs": [],
   "source": [
    "QuesNo = np.random.randint(0, 20, 1)"
   ]
  },
  {
   "cell_type": "code",
   "execution_count": 74,
   "metadata": {},
   "outputs": [
    {
     "name": "stdout",
     "output_type": "stream",
     "text": [
      "13\n"
     ]
    }
   ],
   "source": [
    "print(str(int(QuesNo)))"
   ]
  },
  {
   "cell_type": "code",
   "execution_count": 76,
   "metadata": {},
   "outputs": [],
   "source": [
    "import os\n",
    "os.environ['SDL_AUDIODRIVER'] = 'dsp'"
   ]
  },
  {
   "cell_type": "code",
   "execution_count": null,
   "metadata": {},
   "outputs": [],
   "source": []
  }
 ],
 "metadata": {
  "kernelspec": {
   "display_name": "Python 3",
   "language": "python",
   "name": "python3"
  },
  "language_info": {
   "codemirror_mode": {
    "name": "ipython",
    "version": 3
   },
   "file_extension": ".py",
   "mimetype": "text/x-python",
   "name": "python",
   "nbconvert_exporter": "python",
   "pygments_lexer": "ipython3",
   "version": "3.8.5"
  }
 },
 "nbformat": 4,
 "nbformat_minor": 4
}
