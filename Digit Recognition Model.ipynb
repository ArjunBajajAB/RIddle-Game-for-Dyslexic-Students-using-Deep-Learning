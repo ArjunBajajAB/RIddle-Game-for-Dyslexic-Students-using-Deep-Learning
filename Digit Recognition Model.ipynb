{
 "cells": [
  {
   "cell_type": "code",
   "execution_count": 89,
   "metadata": {},
   "outputs": [],
   "source": [
    "import cv2\n",
    "import numpy as np\n",
    "import tensorflow as tf\n",
    "import matplotlib.pyplot as plt\n",
    "from keras.datasets import mnist\n",
    "from keras.layers import Dense, Flatten,Dropout\n",
    "from keras.layers import MaxPooling2D\n",
    "from keras.layers.convolutional import Conv2D\n",
    "from keras.models import Sequential\n",
    "from keras.utils import to_categorical\n",
    "from sklearn.preprocessing import normalize\n",
    "from keras.optimizers import Adam"
   ]
  },
  {
   "cell_type": "code",
   "execution_count": 67,
   "metadata": {},
   "outputs": [],
   "source": [
    "(x_train,y_train),(x_test,y_test) = mnist.load_data()"
   ]
  },
  {
   "cell_type": "code",
   "execution_count": 68,
   "metadata": {},
   "outputs": [
    {
     "name": "stdout",
     "output_type": "stream",
     "text": [
      "(60000, 28, 28) (10000, 28, 28)\n"
     ]
    }
   ],
   "source": [
    "print(x_train.shape,x_test.shape)"
   ]
  },
  {
   "cell_type": "code",
   "execution_count": null,
   "metadata": {},
   "outputs": [],
   "source": []
  },
  {
   "cell_type": "code",
   "execution_count": null,
   "metadata": {},
   "outputs": [],
   "source": []
  },
  {
   "cell_type": "code",
   "execution_count": null,
   "metadata": {},
   "outputs": [],
   "source": []
  },
  {
   "cell_type": "code",
   "execution_count": 69,
   "metadata": {},
   "outputs": [],
   "source": [
    "y_train = to_categorical(y_train)\n",
    "y_test = to_categorical(y_test)"
   ]
  },
  {
   "cell_type": "code",
   "execution_count": 70,
   "metadata": {},
   "outputs": [
    {
     "name": "stdout",
     "output_type": "stream",
     "text": [
      "(60000, 28, 28) (10000, 28, 28)\n"
     ]
    }
   ],
   "source": [
    "print(x_train.shape,x_test.shape)"
   ]
  },
  {
   "cell_type": "code",
   "execution_count": 71,
   "metadata": {},
   "outputs": [],
   "source": [
    "x_train = x_train.reshape(60000,28,28,1)\n",
    "x_test = x_test.reshape(10000,28,28,1)"
   ]
  },
  {
   "cell_type": "code",
   "execution_count": 72,
   "metadata": {},
   "outputs": [],
   "source": [
    "x_train = tf.cast(x_train,tf.float32)\n",
    "x_test = tf.cast(x_test,tf.float32)"
   ]
  },
  {
   "cell_type": "code",
   "execution_count": 73,
   "metadata": {},
   "outputs": [
    {
     "name": "stdout",
     "output_type": "stream",
     "text": [
      "(10000, 28, 28, 1) (60000, 28, 28, 1)\n"
     ]
    }
   ],
   "source": [
    "print(x_test.shape,x_train.shape)"
   ]
  },
  {
   "cell_type": "code",
   "execution_count": 104,
   "metadata": {},
   "outputs": [],
   "source": [
    "model = Sequential()"
   ]
  },
  {
   "cell_type": "code",
   "execution_count": 105,
   "metadata": {},
   "outputs": [],
   "source": [
    "model.add(Conv2D(16,(3,3),activation=\"relu\",padding=\"same\",input_shape=(28,28,1)))\n",
    "model.add(MaxPooling2D(pool_size=(2,2),strides=(2,2)))\n",
    "model.add(Conv2D(32,(3,3),padding=\"same\",activation=\"relu\"))\n",
    "model.add(MaxPooling2D(pool_size=(2,2),strides=(2,2)))\n",
    "model.add(Flatten())\n",
    "model.add(Dense(128,activation=\"relu\"))\n",
    "model.add(Dropout(0.2))\n",
    "model.add(Dense(128,activation=\"relu\"))\n",
    "model.add(Dropout(0.1))\n",
    "model.add(Dense(256,activation=\"relu\"))\n",
    "model.add(Dense(10,activation=\"softmax\"))"
   ]
  },
  {
   "cell_type": "code",
   "execution_count": 106,
   "metadata": {},
   "outputs": [],
   "source": [
    "model.compile(optimizer=Adam(learning_rate=0.001),loss='categorical_crossentropy',metrics=['accuracy'])"
   ]
  },
  {
   "cell_type": "code",
   "execution_count": 107,
   "metadata": {},
   "outputs": [
    {
     "name": "stdout",
     "output_type": "stream",
     "text": [
      "Epoch 1/12\n",
      "469/469 [==============================] - 10s 22ms/step - loss: 0.4596 - accuracy: 0.8935 - val_loss: 0.0707 - val_accuracy: 0.9778\n",
      "Epoch 2/12\n",
      "469/469 [==============================] - 10s 22ms/step - loss: 0.0955 - accuracy: 0.9721 - val_loss: 0.0578 - val_accuracy: 0.9817\n",
      "Epoch 3/12\n",
      "469/469 [==============================] - 13s 27ms/step - loss: 0.0706 - accuracy: 0.9786 - val_loss: 0.0429 - val_accuracy: 0.9875\n",
      "Epoch 4/12\n",
      "469/469 [==============================] - 13s 27ms/step - loss: 0.0563 - accuracy: 0.9830 - val_loss: 0.0407 - val_accuracy: 0.9866\n",
      "Epoch 5/12\n",
      "469/469 [==============================] - 13s 27ms/step - loss: 0.0462 - accuracy: 0.9866 - val_loss: 0.0460 - val_accuracy: 0.9869\n",
      "Epoch 6/12\n",
      "469/469 [==============================] - 13s 27ms/step - loss: 0.0435 - accuracy: 0.9868 - val_loss: 0.0502 - val_accuracy: 0.9855\n",
      "Epoch 7/12\n",
      "469/469 [==============================] - 13s 27ms/step - loss: 0.0366 - accuracy: 0.9889 - val_loss: 0.0406 - val_accuracy: 0.9884\n",
      "Epoch 8/12\n",
      "469/469 [==============================] - 13s 27ms/step - loss: 0.0359 - accuracy: 0.9890 - val_loss: 0.0387 - val_accuracy: 0.9890\n",
      "Epoch 9/12\n",
      "469/469 [==============================] - 13s 27ms/step - loss: 0.0314 - accuracy: 0.9907 - val_loss: 0.0361 - val_accuracy: 0.9899\n",
      "Epoch 10/12\n",
      "469/469 [==============================] - 13s 27ms/step - loss: 0.0279 - accuracy: 0.9914 - val_loss: 0.0432 - val_accuracy: 0.9886\n",
      "Epoch 11/12\n",
      "469/469 [==============================] - 13s 27ms/step - loss: 0.0302 - accuracy: 0.9909 - val_loss: 0.0407 - val_accuracy: 0.9891\n",
      "Epoch 12/12\n",
      "469/469 [==============================] - 13s 27ms/step - loss: 0.0265 - accuracy: 0.9923 - val_loss: 0.0402 - val_accuracy: 0.9886\n"
     ]
    },
    {
     "data": {
      "text/plain": [
       "<tensorflow.python.keras.callbacks.History at 0x7f070ebff2b0>"
      ]
     },
     "execution_count": 107,
     "metadata": {},
     "output_type": "execute_result"
    }
   ],
   "source": [
    "model.fit(x_train,y_train,validation_data=(x_test,y_test),epochs=12,batch_size=128)"
   ]
  },
  {
   "cell_type": "code",
   "execution_count": 108,
   "metadata": {},
   "outputs": [
    {
     "name": "stdout",
     "output_type": "stream",
     "text": [
      "Model: \"sequential_13\"\n",
      "_________________________________________________________________\n",
      "Layer (type)                 Output Shape              Param #   \n",
      "=================================================================\n",
      "conv2d_27 (Conv2D)           (None, 28, 28, 16)        160       \n",
      "_________________________________________________________________\n",
      "max_pooling2d_20 (MaxPooling (None, 14, 14, 16)        0         \n",
      "_________________________________________________________________\n",
      "conv2d_28 (Conv2D)           (None, 14, 14, 32)        4640      \n",
      "_________________________________________________________________\n",
      "max_pooling2d_21 (MaxPooling (None, 7, 7, 32)          0         \n",
      "_________________________________________________________________\n",
      "flatten_13 (Flatten)         (None, 1568)              0         \n",
      "_________________________________________________________________\n",
      "dense_45 (Dense)             (None, 128)               200832    \n",
      "_________________________________________________________________\n",
      "dropout_3 (Dropout)          (None, 128)               0         \n",
      "_________________________________________________________________\n",
      "dense_46 (Dense)             (None, 128)               16512     \n",
      "_________________________________________________________________\n",
      "dropout_4 (Dropout)          (None, 128)               0         \n",
      "_________________________________________________________________\n",
      "dense_47 (Dense)             (None, 256)               33024     \n",
      "_________________________________________________________________\n",
      "dense_48 (Dense)             (None, 10)                2570      \n",
      "=================================================================\n",
      "Total params: 257,738\n",
      "Trainable params: 257,738\n",
      "Non-trainable params: 0\n",
      "_________________________________________________________________\n"
     ]
    }
   ],
   "source": [
    "model.summary()"
   ]
  },
  {
   "cell_type": "code",
   "execution_count": 109,
   "metadata": {},
   "outputs": [],
   "source": [
    "model.save(\"DigitRecognition.h5\")"
   ]
  },
  {
   "cell_type": "code",
   "execution_count": null,
   "metadata": {},
   "outputs": [],
   "source": []
  }
 ],
 "metadata": {
  "kernelspec": {
   "display_name": "Python 3",
   "language": "python",
   "name": "python3"
  },
  "language_info": {
   "codemirror_mode": {
    "name": "ipython",
    "version": 3
   },
   "file_extension": ".py",
   "mimetype": "text/x-python",
   "name": "python",
   "nbconvert_exporter": "python",
   "pygments_lexer": "ipython3",
   "version": "3.8.5"
  }
 },
 "nbformat": 4,
 "nbformat_minor": 4
}
